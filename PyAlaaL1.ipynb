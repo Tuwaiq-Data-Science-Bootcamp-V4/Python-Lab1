{
 "cells": [
  {
   "cell_type": "code",
   "execution_count": 9,
   "id": "8b554640",
   "metadata": {},
   "outputs": [
    {
     "name": "stdout",
     "output_type": "stream",
     "text": [
      "Winter\n"
     ]
    }
   ],
   "source": [
    "FavSeason = 'Winter'\n",
    "print(FavSeason)\n",
    "\n",
    "\n",
    "\n",
    "\n",
    "\n"
   ]
  },
  {
   "cell_type": "code",
   "execution_count": 3,
   "id": "2c667c7d",
   "metadata": {},
   "outputs": [
    {
     "name": "stdout",
     "output_type": "stream",
     "text": [
      "type of x :  <class 'int'>  and type of y :  <class 'float'>\n"
     ]
    }
   ],
   "source": [
    "x = 1\n",
    "y= 2.5\n",
    "print('type of x : ',type(x),' and type of y : ',type(y))"
   ]
  },
  {
   "cell_type": "code",
   "execution_count": 5,
   "id": "8f4b6bdf",
   "metadata": {},
   "outputs": [
    {
     "name": "stdout",
     "output_type": "stream",
     "text": [
      "x = 2 and y= 2 and z = 2\n"
     ]
    }
   ],
   "source": [
    "x= y= z=2\n",
    "print('x = {} and y= {} and z = {}'.format(x,y,z))"
   ]
  },
  {
   "cell_type": "code",
   "execution_count": 6,
   "id": "435c5751",
   "metadata": {},
   "outputs": [
    {
     "name": "stdout",
     "output_type": "stream",
     "text": [
      "x = 1 and y= 2 and z = 3\n"
     ]
    }
   ],
   "source": [
    "\n",
    "x,y,z=1,2,3\n",
    "print('x = {} and y= {} and z = {}'.format(x,y,z))"
   ]
  },
  {
   "cell_type": "code",
   "execution_count": null,
   "id": "71cd416b",
   "metadata": {},
   "outputs": [],
   "source": []
  }
 ],
 "metadata": {
  "kernelspec": {
   "display_name": "Python 3 (ipykernel)",
   "language": "python",
   "name": "python3"
  },
  "language_info": {
   "codemirror_mode": {
    "name": "ipython",
    "version": 3
   },
   "file_extension": ".py",
   "mimetype": "text/x-python",
   "name": "python",
   "nbconvert_exporter": "python",
   "pygments_lexer": "ipython3",
   "version": "3.11.3"
  }
 },
 "nbformat": 4,
 "nbformat_minor": 5
}
