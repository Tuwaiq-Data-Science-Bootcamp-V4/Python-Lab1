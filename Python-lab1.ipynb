{
 "cells": [
  {
   "cell_type": "markdown",
   "id": "2b6d1414",
   "metadata": {},
   "source": [
    "# Python-Lab1"
   ]
  },
  {
   "cell_type": "code",
   "execution_count": 2,
   "id": "664f75f0",
   "metadata": {},
   "outputs": [],
   "source": [
    "#Define a variable that has a value of your favorite season.\n",
    "season = \"Winter\" \n",
    "\n",
    "#Define “x“ variable has an integer value and variable “y” has a float value.\n",
    "x = 5\n",
    "y = 5.55\n",
    "\n",
    "#Assign One Value to Multiple Variables.\n",
    "Arwa = Sadeem = Hajar = \"Fresh Graduate\"\n",
    "\n",
    "#Assign Many Values to Multiple Variables.\n",
    "Name , Age = \"Sara\", 22"
   ]
  }
 ],
 "metadata": {
  "kernelspec": {
   "display_name": "Python 3 (ipykernel)",
   "language": "python",
   "name": "python3"
  },
  "language_info": {
   "codemirror_mode": {
    "name": "ipython",
    "version": 3
   },
   "file_extension": ".py",
   "mimetype": "text/x-python",
   "name": "python",
   "nbconvert_exporter": "python",
   "pygments_lexer": "ipython3",
   "version": "3.9.12"
  }
 },
 "nbformat": 4,
 "nbformat_minor": 5
}
