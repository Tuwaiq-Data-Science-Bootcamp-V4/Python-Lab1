season="winter"
x=3
y=2.5
x = y = z = "alaa"
x, y, z = "sara", "ahmad", "ali"
