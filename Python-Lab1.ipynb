{
 "cells": [
  {
   "cell_type": "code",
   "execution_count": 18,
   "id": "88c5ff30",
   "metadata": {},
   "outputs": [
    {
     "name": "stdout",
     "output_type": "stream",
     "text": [
      "My favorite season is winnter\n",
      "The integer number is 10\n",
      "The float number is 10.19\n",
      "Mmo\n",
      "Mmo\n",
      "Mmo\n",
      "Norah\n",
      "99.99\n",
      "966\n"
     ]
    }
   ],
   "source": [
    "a = \"winnter\"\n",
    "x ,y = 10 , 10.19\n",
    "print (f\"My favorite season is {a}\")\n",
    "print (f\"The integer number is {x}\")\n",
    "print (f\"The float number is {y}\")\n",
    "\n",
    "M=m=h = \"Mmo\"\n",
    "print(m)\n",
    "print(M)\n",
    "print(h)\n",
    "n , N , o = \"Norah\" , 99.99 , 966\n",
    "print(n)\n",
    "print(N)\n",
    "print(o)\n"
   ]
  },
  {
   "cell_type": "code",
   "execution_count": null,
   "id": "d526dd4f",
   "metadata": {},
   "outputs": [],
   "source": []
  },
  {
   "cell_type": "code",
   "execution_count": null,
   "id": "ae28215a",
   "metadata": {},
   "outputs": [],
   "source": [
    " "
   ]
  },
  {
   "cell_type": "code",
   "execution_count": null,
   "id": "3612846c",
   "metadata": {},
   "outputs": [],
   "source": []
  }
 ],
 "metadata": {
  "kernelspec": {
   "display_name": "Python 3 (ipykernel)",
   "language": "python",
   "name": "python3"
  },
  "language_info": {
   "codemirror_mode": {
    "name": "ipython",
    "version": 3
   },
   "file_extension": ".py",
   "mimetype": "text/x-python",
   "name": "python",
   "nbconvert_exporter": "python",
   "pygments_lexer": "ipython3",
   "version": "3.11.3"
  }
 },
 "nbformat": 4,
 "nbformat_minor": 5
}
